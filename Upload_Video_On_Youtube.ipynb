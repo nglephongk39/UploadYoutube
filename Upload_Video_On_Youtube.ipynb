{
 "cells": [
  {
   "cell_type": "markdown",
   "metadata": {},
   "source": [
    "# Upload Video Youtube"
   ]
  },
  {
   "cell_type": "code",
   "execution_count": null,
   "metadata": {},
   "outputs": [],
   "source": [
    "# -*- coding: utf-8 -*-\n",
    "\n",
    "# Sample Python code for youtube.videos.update\n",
    "# See instructions for running these code samples locally:\n",
    "# https://developers.google.com/explorer-help/code-samples#python\n",
    "\n",
    "import os\n",
    "\n",
    "import google_auth_oauthlib.flow\n",
    "import googleapiclient.discovery\n",
    "import googleapiclient.errors\n",
    "\n",
    "scopes = ['https://www.googleapis.com/auth/youtube.upload']\n",
    "\n",
    "\n",
    "    # Disable OAuthlib's HTTPS verification when running locally.\n",
    "    # *DO NOT* leave this option enabled in production.\n",
    "os.environ[\"OAUTHLIB_INSECURE_TRANSPORT\"] = \"1\"\n",
    "\n",
    "api_service_name = \"youtube\"\n",
    "api_version = \"v3\"\n",
    "client_secrets_file = \"service-account.json\"\n",
    "\n",
    "# Get credentials and create an API client\n",
    "flow = google_auth_oauthlib.flow.InstalledAppFlow.from_client_secrets_file(\n",
    "    client_secrets_file, scopes)\n",
    "credentials = flow.run_console()\n",
    "youtube = googleapiclient.discovery.build(\n",
    "    api_service_name, api_version, credentials=credentials)\n",
    "\n",
    "    # request = youtube.videos().update(\n",
    "    #     body={\n",
    "    #       \"id\": \"\"\n",
    "    #     }\n",
    "    # )\n",
    "    # response = request.execute()\n",
    "\n",
    "    # print(response)\n",
    "\n",
    "# if __name__ == \"__main__\":\n",
    "#     main()"
   ]
  },
  {
   "cell_type": "code",
   "execution_count": null,
   "metadata": {},
   "outputs": [],
   "source": []
  },
  {
   "cell_type": "markdown",
   "metadata": {},
   "source": [
    "# Cr"
   ]
  },
  {
   "cell_type": "code",
   "execution_count": 8,
   "metadata": {},
   "outputs": [
    {
     "ename": "HttpError",
     "evalue": "<HttpError 403 when requesting https://youtube.googleapis.com/upload/youtube/v3/videos?part=snippet%2Cstatus&alt=json&uploadType=multipart returned \"The request cannot be completed because you have exceeded your <a href=\"/youtube/v3/getting-started#quota\">quota</a>.\". Details: \"[{'message': 'The request cannot be completed because you have exceeded your <a href=\"/youtube/v3/getting-started#quota\">quota</a>.', 'domain': 'youtube.quota', 'reason': 'quotaExceeded'}]\">",
     "output_type": "error",
     "traceback": [
      "\u001b[1;31m---------------------------------------------------------------------------\u001b[0m",
      "\u001b[1;31mHttpError\u001b[0m                                 Traceback (most recent call last)",
      "\u001b[1;32mf:\\pythonForCode\\Upload_Video_On_Youtube.ipynb Cell 5\u001b[0m line \u001b[0;36m3\n\u001b[0;32m     <a href='vscode-notebook-cell:/f%3A/pythonForCode/Upload_Video_On_Youtube.ipynb#W4sZmlsZQ%3D%3D?line=19'>20</a>\u001b[0m \u001b[39m# video_description = 'Video description'\u001b[39;00m\n\u001b[0;32m     <a href='vscode-notebook-cell:/f%3A/pythonForCode/Upload_Video_On_Youtube.ipynb#W4sZmlsZQ%3D%3D?line=21'>22</a>\u001b[0m request \u001b[39m=\u001b[39m youtube\u001b[39m.\u001b[39mvideos()\u001b[39m.\u001b[39minsert(\n\u001b[0;32m     <a href='vscode-notebook-cell:/f%3A/pythonForCode/Upload_Video_On_Youtube.ipynb#W4sZmlsZQ%3D%3D?line=22'>23</a>\u001b[0m     part\u001b[39m=\u001b[39m\u001b[39m'\u001b[39m\u001b[39msnippet,status\u001b[39m\u001b[39m'\u001b[39m,\n\u001b[0;32m     <a href='vscode-notebook-cell:/f%3A/pythonForCode/Upload_Video_On_Youtube.ipynb#W4sZmlsZQ%3D%3D?line=23'>24</a>\u001b[0m     body\u001b[39m=\u001b[39m{    \n\u001b[1;32m   (...)\u001b[0m\n\u001b[0;32m     <a href='vscode-notebook-cell:/f%3A/pythonForCode/Upload_Video_On_Youtube.ipynb#W4sZmlsZQ%3D%3D?line=32'>33</a>\u001b[0m     media_body\u001b[39m=\u001b[39mMediaFileUpload(video_file)\n\u001b[0;32m     <a href='vscode-notebook-cell:/f%3A/pythonForCode/Upload_Video_On_Youtube.ipynb#W4sZmlsZQ%3D%3D?line=33'>34</a>\u001b[0m )\n\u001b[1;32m---> <a href='vscode-notebook-cell:/f%3A/pythonForCode/Upload_Video_On_Youtube.ipynb#W4sZmlsZQ%3D%3D?line=35'>36</a>\u001b[0m response \u001b[39m=\u001b[39m request\u001b[39m.\u001b[39;49mexecute()\n\u001b[0;32m     <a href='vscode-notebook-cell:/f%3A/pythonForCode/Upload_Video_On_Youtube.ipynb#W4sZmlsZQ%3D%3D?line=37'>38</a>\u001b[0m \u001b[39mprint\u001b[39m(response)\n\u001b[0;32m     <a href='vscode-notebook-cell:/f%3A/pythonForCode/Upload_Video_On_Youtube.ipynb#W4sZmlsZQ%3D%3D?line=39'>40</a>\u001b[0m \u001b[39mprint\u001b[39m(\u001b[39mf\u001b[39m\u001b[39m\"\u001b[39m\u001b[39mVideo ID: \u001b[39m\u001b[39m{\u001b[39;00mresponse[\u001b[39m'\u001b[39m\u001b[39mid\u001b[39m\u001b[39m'\u001b[39m]\u001b[39m}\u001b[39;00m\u001b[39m\"\u001b[39m)\n",
      "File \u001b[1;32mf:\\pythonForCode\\venv\\lib\\site-packages\\googleapiclient\\_helpers.py:130\u001b[0m, in \u001b[0;36mpositional.<locals>.positional_decorator.<locals>.positional_wrapper\u001b[1;34m(*args, **kwargs)\u001b[0m\n\u001b[0;32m    128\u001b[0m     \u001b[39melif\u001b[39;00m positional_parameters_enforcement \u001b[39m==\u001b[39m POSITIONAL_WARNING:\n\u001b[0;32m    129\u001b[0m         logger\u001b[39m.\u001b[39mwarning(message)\n\u001b[1;32m--> 130\u001b[0m \u001b[39mreturn\u001b[39;00m wrapped(\u001b[39m*\u001b[39margs, \u001b[39m*\u001b[39m\u001b[39m*\u001b[39mkwargs)\n",
      "File \u001b[1;32mf:\\pythonForCode\\venv\\lib\\site-packages\\googleapiclient\\http.py:938\u001b[0m, in \u001b[0;36mHttpRequest.execute\u001b[1;34m(self, http, num_retries)\u001b[0m\n\u001b[0;32m    936\u001b[0m     callback(resp)\n\u001b[0;32m    937\u001b[0m \u001b[39mif\u001b[39;00m resp\u001b[39m.\u001b[39mstatus \u001b[39m>\u001b[39m\u001b[39m=\u001b[39m \u001b[39m300\u001b[39m:\n\u001b[1;32m--> 938\u001b[0m     \u001b[39mraise\u001b[39;00m HttpError(resp, content, uri\u001b[39m=\u001b[39m\u001b[39mself\u001b[39m\u001b[39m.\u001b[39muri)\n\u001b[0;32m    939\u001b[0m \u001b[39mreturn\u001b[39;00m \u001b[39mself\u001b[39m\u001b[39m.\u001b[39mpostproc(resp, content)\n",
      "\u001b[1;31mHttpError\u001b[0m: <HttpError 403 when requesting https://youtube.googleapis.com/upload/youtube/v3/videos?part=snippet%2Cstatus&alt=json&uploadType=multipart returned \"The request cannot be completed because you have exceeded your <a href=\"/youtube/v3/getting-started#quota\">quota</a>.\". Details: \"[{'message': 'The request cannot be completed because you have exceeded your <a href=\"/youtube/v3/getting-started#quota\">quota</a>.', 'domain': 'youtube.quota', 'reason': 'quotaExceeded'}]\">"
     ]
    }
   ],
   "source": [
    "import os\n",
    "from googleapiclient.discovery import build\n",
    "from googleapiclient.http import MediaFileUpload\n",
    "from google.oauth2 import service_account\n",
    "\n",
    "SCOPES = [\"https://www.googleapis.com/auth/youtube.upload\"]\n",
    "\n",
    "SERVICE_ACCOUNT_FILE = 'upload-video-youtube-credential-account.json'\n",
    "\n",
    "credentials = service_account.Credentials.from_service_account_file(\n",
    "     SERVICE_ACCOUNT_FILE,\n",
    "     scopes=SCOPES\n",
    ")\n",
    "\n",
    "youtube = build('youtube', 'v3', credentials=credentials)\n",
    "\n",
    "\n",
    "video_file = r\"C:\\Users\\Phong\\Downloads\\Compressed\\[NEW] Ultimate AWS Certified Cloud Practitioner CLF-C02\\05 EC2 - Elastic Compute Cloud\\002 EC2 Basics.mp4\"\n",
    "video_title = '05 EC2 - Elastic Compute Cloud - 002 EC2 Basics'\n",
    "# video_description = 'Video description'\n",
    "\n",
    "request = youtube.videos().insert(\n",
    "    part='snippet,status',\n",
    "    body={    \n",
    "        'snippet': {\n",
    "            'title': video_title,\n",
    "            # 'description': video_description\n",
    "         },\n",
    "         'status': {\n",
    "            'privacyStatus': 'private'\n",
    "        }\n",
    "    },\n",
    "    media_body=MediaFileUpload(video_file)\n",
    ")\n",
    "\n",
    "response = request.execute()\n",
    "\n",
    "print(response)\n",
    "\n",
    "print(f\"Video ID: {response['id']}\")"
   ]
  },
  {
   "cell_type": "code",
   "execution_count": 2,
   "metadata": {},
   "outputs": [
    {
     "name": "stderr",
     "output_type": "stream",
     "text": [
      "f:\\pythonForCode\\venv\\lib\\site-packages\\oauth2client\\_helpers.py:255: UserWarning: Cannot access f:\\pythonForCode\\venv\\lib\\site-packages\\ipykernel_launcher.py-oauth2.json: No such file or directory\n",
      "  warnings.warn(_MISSING_FILE_MESSAGE.format(filename))\n"
     ]
    }
   ],
   "source": [
    "\n",
    "import httplib2\n",
    "import os\n",
    "import random\n",
    "import sys\n",
    "import time\n",
    "\n",
    "from apiclient.discovery import build\n",
    "from apiclient.errors import HttpError\n",
    "from apiclient.http import MediaFileUpload\n",
    "from oauth2client.client import flow_from_clientsecrets\n",
    "from oauth2client.file import Storage\n",
    "from oauth2client.tools import argparser, run_flow\n",
    "\n",
    "flow = flow_from_clientsecrets(CLIENT_SECRETS_FILE,\n",
    "                                scope=YOUTUBE_UPLOAD_SCOPE,\n",
    "                                message=MISSING_CLIENT_SECRETS_MESSAGE)\n",
    "\n",
    "storage = Storage(\"%s-oauth2.json\" % sys.argv[0])\n",
    "credentials = storage.get()\n"
   ]
  },
  {
   "cell_type": "code",
   "execution_count": 13,
   "metadata": {},
   "outputs": [
    {
     "name": "stdout",
     "output_type": "stream",
     "text": [
      "auth_host_name\n"
     ]
    }
   ],
   "source": [
    "class Args:\n",
    "    def __init__(self, file, playlist_id, title):\n",
    "\n",
    "        self.auth_host_name = 'localhost'\n",
    "        self.noauth_local_webserver = False\n",
    "        self.auth_host_port = [8080, 8090]\n",
    "        self.file = file\n",
    "        self.playlist_id = playlist_id\n",
    "        self.title = title\n",
    "        self.privacyStatus = 'private'\n",
    "file = r\"C:\\Users\\Phong\\Downloads\\Compressed\\[NEW] Ultimate AWS Certified Cloud Practitioner CLF-C02\\05 EC2 - Elastic Compute Cloud\\002 EC2 Basics.mp4\"\n",
    "playlist_id = \"PL5fPeaP08b561QF_u3XwaFtWR1fRQo3JQ\"\n",
    "title = '05 EC2 - Elastic Compute Cloud - 002 EC2 Basics'\n",
    "args = Args(file, playlist_id, title)\n",
    "\n",
    "print(args.auth_host_name)\n"
   ]
  }
 ],
 "metadata": {
  "kernelspec": {
   "display_name": "venv",
   "language": "python",
   "name": "python3"
  },
  "language_info": {
   "codemirror_mode": {
    "name": "ipython",
    "version": 3
   },
   "file_extension": ".py",
   "mimetype": "text/x-python",
   "name": "python",
   "nbconvert_exporter": "python",
   "pygments_lexer": "ipython3",
   "version": "3.10.8"
  }
 },
 "nbformat": 4,
 "nbformat_minor": 2
}
